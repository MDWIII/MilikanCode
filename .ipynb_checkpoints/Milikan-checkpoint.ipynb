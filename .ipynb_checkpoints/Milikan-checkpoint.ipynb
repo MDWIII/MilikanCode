{
 "cells": [
  {
   "cell_type": "markdown",
   "metadata": {},
   "source": [
    "## Selecting droplets of appropriate charge\n",
    "#### Merritt Waldron and Will Morse\n",
    "#### University of Southern Maine\n",
    "#### PHY242 ILab"
   ]
  },
  {
   "cell_type": "code",
   "execution_count": 18,
   "metadata": {
    "collapsed": true
   },
   "outputs": [],
   "source": [
    "import numpy as np"
   ]
  },
  {
   "cell_type": "code",
   "execution_count": 42,
   "metadata": {
    "collapsed": true
   },
   "outputs": [],
   "source": [
    "'''Declare global variables! On data taking days check, record and declare barametric pressure.\n",
    "Find Vf and Vr for each event and enter into subsequent catagory. Calculate q.'''\n",
    "p = 76.7 #barametric pressure in cm of mercury\n",
    "Vf = 0.0032#velocity of fall cm/s\n",
    "Vr = 0.0191#velocity of rise cm/s\n",
    "\n",
    "V = 508.3 # potential difference volts\n",
    "d = 0.7625 # plate seperation in cm\n",
    "roe = 0.866 # density of oil in g/cm^3\n",
    "g = 981.0 #gravity in cm/s^2\n",
    "N = 0.00018 # viscosity of air in dyne*s/cm^2\n",
    "b = .000617 # constant in cm of hg*cm\n",
    "a = dropRadiusEtaCorrection(b,p,N,Vf,g,roe)\n"
   ]
  },
  {
   "cell_type": "markdown",
   "metadata": {},
   "source": [
    "## Calcuate the drops radius\n",
    "\n",
    "First, we Calculate the radius of oil drop using Stokes' law, relating the radius of a spherical body to its velocity of fall in a viscous medium. We use global variables density $\\rho$ = 0.866 $\\frac{g}{cm^3}$, viscosity of air $\\eta$ = 0.00018 $\\frac{dyne\\cdot s}{cm^2}$ and little g is 981.0 $\\frac{cm}{s^2}$. Returns variable 'a' wich is equal to the drops radius\n",
    "\\begin{equation}\n",
    "a = \\sqrt{\\frac{9\\eta v_f}{2g\\rho}}\n",
    "\\end{equation}\n"
   ]
  },
  {
   "cell_type": "code",
   "execution_count": 43,
   "metadata": {
    "collapsed": true
   },
   "outputs": [],
   "source": [
    "def dropRadius(N,Vf,g,roe):\n",
    "    '''Calculates the radius of oil drop using Stokes' law, relating the radius \n",
    "    of a spherical body to its velocity of fall in a viscous medium. Where the \n",
    "    density (roe) is given as 0.866 g/cm^3, N is viscosity of air 0.00018 dyne*s/cm^2\n",
    "    and little g is 981.0 cm/s^2. Returns variable 'a' wich is equal to the drops radius'''\n",
    "    \n",
    "    a = np.sqrt((9*N*Vf)/(2*g*roe))\n",
    "    return(a)"
   ]
  },
  {
   "cell_type": "code",
   "execution_count": 44,
   "metadata": {
    "collapsed": false
   },
   "outputs": [
    {
     "name": "stdout",
     "output_type": "stream",
     "text": [
      "5.52362324905e-05\n"
     ]
    }
   ],
   "source": [
    "print(dropRadius(N,Vf,g,roe))"
   ]
  },
  {
   "cell_type": "markdown",
   "metadata": {},
   "source": [
    "Since the oil droplets will be on the order of 2 microns which is comprable to the mean free path of air molecules we must use a correction factor to calculate the effective viscosity.\n",
    "\\begin{equation}\n",
    "\\eta_{eff} = \\eta\\bigg(\\frac{1}{1+\\frac{b}{pa}}\\bigg)\n",
    "\\end{equation}\n",
    "Substituting the correction factor into equation for Stokes Law approximaton of a, we get.\n",
    "\\begin{equation}\n",
    "a = \\sqrt{\\bigg(\\frac{b}{2p}\\bigg)^2\\frac{9\\eta v_f}{2g\\rho}}-\\frac{b}{2p}\n",
    "\\end{equation}"
   ]
  },
  {
   "cell_type": "code",
   "execution_count": 45,
   "metadata": {
    "collapsed": true
   },
   "outputs": [],
   "source": [
    "def dropRadiusEtaCorrection(b,p,N,Vf,g,roe):\n",
    "    '''Adding a correction factor to calculate the effective viscosity of air in poise, this function \n",
    "    calculates the radius of oil drop using Stokes' law, relating the radius \n",
    "    of a spherical body to its velocity of fall in a viscous medium. Where the \n",
    "    density (roe) is given as 0.866 g/cm^3, N is viscosity of air 0.00018 dyne*s/cm^2\n",
    "    and little g is 981.0 cm/s^2. Returns variable 'a' wich is equal to the drops radius'''\n",
    "    a_corrected = np.sqrt(((b/2*p)**2)+((9*N*Vf)/(2*g*roe)))-(b/2*p)\n",
    "    return(a_corrected)\n"
   ]
  },
  {
   "cell_type": "code",
   "execution_count": 46,
   "metadata": {
    "collapsed": false
   },
   "outputs": [
    {
     "name": "stdout",
     "output_type": "stream",
     "text": [
      "6.44713817576e-08\n"
     ]
    }
   ],
   "source": [
    "print(dropRadiusEtaCorrection(b,p,N,Vf,g,roe))"
   ]
  },
  {
   "cell_type": "markdown",
   "metadata": {},
   "source": [
    "## Calculate the charge\n",
    "Finaly, use the using the $\\eta$ corrected radius of the droplet calculate the cahrge in e.s.u. using \n",
    "\\begin{equation}\n",
    "q = \\bigg|400 \\pi d \\bigg(\\frac{1}{g\\rho}{\\bigg|\\frac{9\\eta}{2}}^3\\bigg| \\bigg)^{\\frac{1}{2}}\\bigg|\\cdot\\bigg| \\bigg(\\frac{1}{1+\\frac{b}{pa}}\\bigg)^\\frac{3}{2} \\bigg|\\cdot\\bigg| \\frac{v_f + v_r \\sqrt{v_f}}{V}\\bigg|\n",
    "\\end{equation}"
   ]
  },
  {
   "cell_type": "code",
   "execution_count": 47,
   "metadata": {
    "collapsed": false
   },
   "outputs": [],
   "source": [
    "def charge(d,g,p,N,b,a,Vf,Vr,V):\n",
    "    '''Calculates the charge on a selected mineral oil droplet. If the drop \n",
    "    is greater than 5 excess electrons choose a slower moving droplet'''\n",
    "\n",
    "    I = np.abs(400*np.pi*d*(1/(g*roe)*np.abs((9*N/2)**3))**(1/2))\n",
    "    J = np.abs((1/(1+(b/(p*a))))**(2/3)**(3/2))\n",
    "    K = np.abs((Vf+Vr*np.sqrt(Vf))/V)\n",
    "    return(I*J*K)"
   ]
  },
  {
   "cell_type": "code",
   "execution_count": 39,
   "metadata": {
    "collapsed": false
   },
   "outputs": [
    {
     "data": {
      "text/plain": [
       "4.5928495064534917e-10"
      ]
     },
     "execution_count": 39,
     "metadata": {},
     "output_type": "execute_result"
    }
   ],
   "source": [
    "charge(d,g,p,N,b,a,Vf,Vr,V) #/4.803e-10"
   ]
  },
  {
   "cell_type": "code",
   "execution_count": null,
   "metadata": {
    "collapsed": true
   },
   "outputs": [],
   "source": []
  }
 ],
 "metadata": {
  "kernelspec": {
   "display_name": "Python 3",
   "language": "python",
   "name": "python3"
  },
  "language_info": {
   "codemirror_mode": {
    "name": "ipython",
    "version": 3
   },
   "file_extension": ".py",
   "mimetype": "text/x-python",
   "name": "python",
   "nbconvert_exporter": "python",
   "pygments_lexer": "ipython3",
   "version": "3.4.4"
  }
 },
 "nbformat": 4,
 "nbformat_minor": 0
}
