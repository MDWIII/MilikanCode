{
 "cells": [
  {
   "cell_type": "code",
   "execution_count": 28,
   "metadata": {
    "collapsed": false
   },
   "outputs": [
    {
     "data": {
      "text/plain": [
       "\"class oilDrop(object, textFile):\\n    def __init__(self, textFile):\\n        dataArray = np.genfromtxt(textFile, delimiter = '\\t', skip_header = True)\\n        self.event = \\n        \""
      ]
     },
     "execution_count": 28,
     "metadata": {},
     "output_type": "execute_result"
    }
   ],
   "source": [
    "'''class oilDrop(object, textFile):\n",
    "    def __init__(self, textFile):\n",
    "        dataArray = np.genfromtxt(textFile, delimiter = '\\t', skip_header = True)\n",
    "        self.event = \n",
    "        '''"
   ]
  },
  {
   "cell_type": "code",
   "execution_count": 29,
   "metadata": {
    "collapsed": false
   },
   "outputs": [
    {
     "name": "stdout",
     "output_type": "stream",
     "text": [
      "\u001b[31mMilikan.ipynb\u001b[m\u001b[m*                \u001b[31mapril28DataRun.txt\u001b[m\u001b[m*\r\n",
      "\u001b[31mapril25DataRun.txt\u001b[m\u001b[m*           \u001b[31moilDrop_data_anylisis1.ipynb\u001b[m\u001b[m*\r\n",
      "\u001b[31mapril26DataRun.txt\u001b[m\u001b[m*           \u001b[31mtest.ipynb\u001b[m\u001b[m*\r\n"
     ]
    }
   ],
   "source": [
    "# all the libraries we will use\n",
    "import time\n",
    "import numpy as np\n",
    "import uncertainties as u\n",
    "from uncertainties import unumpy\n",
    "import scipy.stats as stats\n",
    "import matplotlib.pyplot as plt\n",
    "%matplotlib inline\n",
    "plt.rcParams['figure.figsize'] = (16, 8)\n",
    "%ls"
   ]
  },
  {
   "cell_type": "code",
   "execution_count": 30,
   "metadata": {
    "collapsed": false
   },
   "outputs": [
    {
     "name": "stdout",
     "output_type": "stream",
     "text": [
      "2016,05,02-17,07,09\n"
     ]
    }
   ],
   "source": [
    "print(time.strftime(\"%Y,%m,%d-%H,%M,%S\")) # allows us to timestamp the data\n"
   ]
  },
  {
   "cell_type": "code",
   "execution_count": 31,
   "metadata": {
    "collapsed": false
   },
   "outputs": [
    {
     "name": "stdout",
     "output_type": "stream",
     "text": [
      "event #\tradiation dosage #\tcap voltage\ttemperature (thremosistor ohms)\tfall time (s)\trisetime (s)\tdistange (mm) [major reticle lines are .5 mm]\tpressure (cm Mg)\n",
      "\n"
     ]
    }
   ],
   "source": [
    "# read the header line so we can apropreately name the data columns\n",
    "f = open('april25DataRun.txt', 'r')\n",
    "print(f.readline(-1))\n",
    "f.close()"
   ]
  },
  {
   "cell_type": "code",
   "execution_count": 32,
   "metadata": {
    "collapsed": false
   },
   "outputs": [
    {
     "name": "stdout",
     "output_type": "stream",
     "text": [
      "data array april 25th:\n",
      "[[   1.      0.    496.      1.92   31.66   68.87    2.     76.6 ]\n",
      " [   1.      0.    496.1     1.92   32.21   74.35    2.       nan]\n",
      " [   1.      0.    496.1     1.91   32.68   74.47    2.       nan]\n",
      " [   1.      0.    496.2     1.91   33.26   77.9     2.       nan]\n",
      " [   1.      1.    496.2     1.9    33.7    27.53    2.       nan]\n",
      " [   1.      1.    496.2     1.89   33.13   28.36    2.       nan]\n",
      " [   2.      0.    496.4     1.88   65.26    4.43    2.       nan]\n",
      " [   2.      0.    496.5     1.87   69.26    4.43    2.       nan]\n",
      " [   2.      0.    496.5     1.87   65.91    4.61    2.       nan]\n",
      " [   2.      0.    496.5     1.87   71.06    3.8     2.       nan]\n",
      " [   2.      1.    496.5     1.87   70.85    4.03    2.       nan]\n",
      " [   2.      1.    496.5     1.86   68.25    3.95    2.       nan]\n",
      " [   2.      1.    496.6     1.85   67.73    3.81    2.       nan]\n",
      " [   2.      2.    496.6     1.86   67.35    3.85    2.       nan]\n",
      " [   2.      2.    496.6     1.85   71.26    3.9     2.       nan]\n",
      " [   2.      2.    496.6     1.85   69.31    4.43    2.       nan]\n",
      " [   2.      2.    496.6     1.85   68.      4.45    2.       nan]\n",
      " [   3.      0.    502.5     1.82   43.98    9.25    2.       nan]\n",
      " [   3.      0.    502.5     1.83   44.91     nan    2.       nan]\n",
      " [   4.      0.    502.6     1.83   41.69   18.41    2.       nan]\n",
      " [   4.      0.    502.6     1.83   42.51   18.06    2.       nan]\n",
      " [   4.      0.    502.6     1.84   43.13    9.36    2.       nan]\n",
      " [   4.      0.    502.6     1.82   43.8     9.2     2.       nan]\n",
      " [   4.      1.    502.6     1.83   41.86    9.23    2.       nan]\n",
      " [   4.      1.    502.6     1.82   43.54    9.11    2.       nan]\n",
      " [   4.      1.    502.7     1.82   42.75    9.38    2.       nan]\n",
      " [   4.      1.    502.7     1.82   41.96    9.21    2.       nan]\n",
      " [   4.      2.    502.7     1.82   42.48    7.38    2.       nan]\n",
      " [   4.      2.    502.7     1.82   50.13    7.6     2.       nan]\n",
      " [   4.      3.    502.7     1.81   40.56    5.3     2.       nan]\n",
      " [   4.      3.    502.7     1.81   42.73    6.36    2.       nan]\n",
      " [   4.      3.    502.8     1.82   42.41    5.25    2.       nan]\n",
      " [   4.      3.    502.8     1.82   43.28    5.41    2.       nan]\n",
      " [   4.      3.    502.8     1.81   43.96    3.85    2.       nan]\n",
      " [   4.      4.    502.8     1.82   41.7     2.88    2.       nan]\n",
      " [   4.      4.    502.8     1.81   43.06    3.38    2.       nan]\n",
      " [   4.      4.    502.8     1.81   42.16    3.36    2.       nan]\n",
      " [   4.      4.    502.8     1.81   41.63    4.75    2.       nan]]\n",
      "pressure array pre filling: \n",
      "[ 0.  0.  0.  0.  0.  0.  0.  0.  0.  0.  0.  0.  0.  0.  0.  0.  0.  0.\n",
      "  0.  0.  0.  0.  0.  0.  0.  0.  0.  0.  0.  0.  0.  0.  0.  0.  0.  0.\n",
      "  0.  0.]\n",
      "pressure array post filling: \n",
      "[ 76.6  76.6  76.6  76.6  76.6  76.6  76.6  76.6  76.6  76.6  76.6  76.6\n",
      "  76.6  76.6  76.6  76.6  76.6  76.6  76.6  76.6  76.6  76.6  76.6  76.6\n",
      "  76.6  76.6  76.6  76.6  76.6  76.6  76.6  76.6  76.6  76.6  76.6  76.6\n",
      "  76.6  76.6]\n",
      "fall times: \n",
      "[ 31.66  32.21  32.68  33.26  33.7   33.13  65.26  69.26  65.91  71.06\n",
      "  70.85  68.25  67.73  67.35  71.26  69.31  68.    43.98  44.91  41.69\n",
      "  42.51  43.13  43.8   41.86  43.54  42.75  41.96  42.48  50.13  40.56\n",
      "  42.73  42.41  43.28  43.96  41.7   43.06  42.16  41.63]\n"
     ]
    }
   ],
   "source": [
    "dataArray25 = np.genfromtxt('april25DataRun.txt', delimiter = '\\t', skip_header = True)\n",
    "#check for discontinutities\n",
    "print('data array april 25th:\\n%s' % dataArray25)\n",
    "eventNumber25 = dataArray25[:,0]\n",
    "radiationDosageNumber25 = dataArray25[:,1]\n",
    "capVoltage25 = dataArray25[:,2]\n",
    "thermosistorResistance25 = dataArray25[:,3]\n",
    "fallTime25 = dataArray25[:,4]\n",
    "riseTime25 = dataArray25[:,5]\n",
    "riseFallDist25 = dataArray25[:,6]\n",
    "pressure25 = np.zeros(len(eventNumber25))\n",
    "print('pressure array pre filling: \\n%s' % pressure25)\n",
    "pressure25.fill(dataArray25[0,7])\n",
    "print('pressure array post filling: \\n%s' % pressure25)\n",
    "print('fall times: \\n%s' % fallTime25)"
   ]
  },
  {
   "cell_type": "code",
   "execution_count": 33,
   "metadata": {
    "collapsed": false
   },
   "outputs": [
    {
     "name": "stdout",
     "output_type": "stream",
     "text": [
      "event #\tradiation dosage #\ttemperature (thremosistor ohms)\tfall time (s)\tcap voltage\trisetime (s)\tdistange (mm) [major reticle lines are .5 mm]\tpressure (cm Mg)\n",
      "\n"
     ]
    }
   ],
   "source": [
    "# now do the same for the rest of the data runs\n",
    "# read the header line so we can apropreately name the data columns\n",
    "f = open('april26DataRun.txt', 'r')\n",
    "print(f.readline(-1))\n",
    "f.close()"
   ]
  },
  {
   "cell_type": "code",
   "execution_count": 34,
   "metadata": {
    "collapsed": false
   },
   "outputs": [
    {
     "name": "stdout",
     "output_type": "stream",
     "text": [
      "pressure array pre filling: \n",
      "[ 0.  0.  0.  0.  0.  0.  0.  0.  0.  0.  0.  0.  0.  0.  0.  0.  0.  0.\n",
      "  0.  0.  0.  0.  0.  0.  0.  0.  0.  0.  0.  0.  0.  0.  0.  0.  0.  0.\n",
      "  0.  0.  0.  0.  0.  0.  0.  0.  0.  0.  0.  0.]\n",
      "pressure array post filling: \n",
      "[ 75.86  75.86  75.86  75.86  75.86  75.86  75.86  75.86  75.86  75.86\n",
      "  75.86  75.86  75.86  75.86  75.86  75.86  75.86  75.86  75.86  75.86\n",
      "  75.86  75.86  75.86  75.86  75.86  75.86  75.86  75.86  75.86  75.86\n",
      "  75.86  75.86  75.86  75.86  75.86  75.86  75.86  75.86  75.86  75.86\n",
      "  75.86  75.86  75.86  75.86  75.86  75.86  75.86  75.86]\n"
     ]
    }
   ],
   "source": [
    "dataArray26 = np.genfromtxt('april26DataRun.txt', delimiter = '\\t', skip_header = True)\n",
    "eventNumber26 = dataArray26[:,0]\n",
    "radiationDosageNumber26 = dataArray26[:,1]\n",
    "thermosistorResistance26 = dataArray26[:,2]\n",
    "fallTime26 = dataArray26[:,3]\n",
    "capVoltage26 = dataArray26[:,4]\n",
    "riseTime26 = dataArray26[:,5]\n",
    "riseFallDist26 = dataArray26[:,6]\n",
    "pressure26 = np.zeros(len(eventNumber26))\n",
    "print('pressure array pre filling: \\n%s' % pressure26)\n",
    "pressure26.fill(dataArray26[39,7])\n",
    "print('pressure array post filling: \\n%s' % pressure26)\n",
    "#print('fall times: \\n%s' % fallTime26)"
   ]
  },
  {
   "cell_type": "code",
   "execution_count": 35,
   "metadata": {
    "collapsed": false
   },
   "outputs": [
    {
     "name": "stdout",
     "output_type": "stream",
     "text": [
      "event #\tradiation dosage #\ttemperature (thremosistor ohms)\tfall time (s)\tcap voltage\trisetime (s)\tdistange (mm) [major reticle lines are .5 mm]\tpressure (cm Mg)\n",
      "\n"
     ]
    }
   ],
   "source": [
    "# and finally for the last data run\n",
    "# read the header line so we can apropreately name the data columns\n",
    "f = open('april28DataRun.txt', 'r')\n",
    "print(f.readline(-1))\n",
    "f.close()"
   ]
  },
  {
   "cell_type": "code",
   "execution_count": 36,
   "metadata": {
    "collapsed": false
   },
   "outputs": [
    {
     "name": "stdout",
     "output_type": "stream",
     "text": [
      "pressure array pre filling: \n",
      "[ 0.  0.  0.  0.  0.  0.  0.  0.  0.  0.  0.  0.  0.  0.  0.  0.  0.  0.\n",
      "  0.  0.  0.  0.  0.  0.  0.  0.  0.  0.  0.  0.  0.  0.  0.  0.  0.  0.\n",
      "  0.  0.  0.  0.  0.  0.  0.  0.  0.  0.  0.  0.  0.  0.  0.  0.  0.  0.\n",
      "  0.  0.  0.  0.  0.  0.  0.  0.  0.  0.  0.  0.  0.  0.  0.  0.  0.  0.\n",
      "  0.  0.  0.]\n",
      "pressure array post filling: \n",
      "[ 76.34  76.34  76.34  76.34  76.34  76.34  76.34  76.34  76.34  76.34\n",
      "  76.34  76.34  76.34  76.34  76.34  76.34  76.34  76.34  76.34  76.34\n",
      "  76.34  76.34  76.34  76.34  76.34  76.34  76.34  76.34  76.34  76.34\n",
      "  76.34  76.34  76.34  76.34  76.34  76.34  76.34  76.34  76.34  76.34\n",
      "  76.34  76.34  76.34  76.34  76.34  76.34  76.34  76.34  76.34  76.34\n",
      "  76.34  76.34  76.34  76.34  76.34  76.34  76.34  76.34  76.34  76.34\n",
      "  76.34  76.34  76.34  76.34  76.34  76.34  76.34  76.34  76.34  76.34\n",
      "  76.34  76.34  76.34  76.34  76.34]\n"
     ]
    }
   ],
   "source": [
    "dataArray28 = np.genfromtxt('april28DataRun.txt', delimiter = '\\t', skip_header = True)\n",
    "eventNumber28 = dataArray28[:,0]\n",
    "radiationDosageNumber28 = dataArray28[:,1]\n",
    "thermosistorResistance28 = dataArray28[:,2]\n",
    "fallTime28 = dataArray28[:,3]\n",
    "capVoltage28 = dataArray28[:,4]\n",
    "riseTime28 = dataArray28[:,5]\n",
    "riseFallDist28 = dataArray28[:,6]\n",
    "pressure28 = np.zeros(len(eventNumber28))\n",
    "print('pressure array pre filling: \\n%s' % pressure28)\n",
    "pressure28.fill(dataArray28[0,7])\n",
    "print('pressure array post filling: \\n%s' % pressure28)\n",
    "#print('fall times: \\n%s' % fallTime28)"
   ]
  },
  {
   "cell_type": "code",
   "execution_count": 37,
   "metadata": {
    "collapsed": false
   },
   "outputs": [
    {
     "name": "stdout",
     "output_type": "stream",
     "text": [
      "last event number: 4.0\n",
      "[ 76.6   76.6   76.6   76.6   76.6   76.6   76.6   76.6   76.6   76.6   76.6\n",
      "  76.6   76.6   76.6   76.6   76.6   76.6   76.6   76.6   76.6   76.6   76.6\n",
      "  76.6   76.6   76.6   76.6   76.6   76.6   76.6   76.6   76.6   76.6   76.6\n",
      "  76.6   76.6   76.6   76.6   76.6   75.86  75.86  75.86  75.86  75.86\n",
      "  75.86  75.86  75.86  75.86  75.86  75.86  75.86  75.86  75.86  75.86\n",
      "  75.86  75.86  75.86  75.86  75.86  75.86  75.86  75.86  75.86  75.86\n",
      "  75.86  75.86  75.86  75.86  75.86  75.86  75.86  75.86  75.86  75.86\n",
      "  75.86  75.86  75.86  75.86  75.86  75.86  75.86  75.86  75.86  75.86\n",
      "  75.86  75.86  75.86  76.34  76.34  76.34  76.34  76.34  76.34  76.34\n",
      "  76.34  76.34  76.34  76.34  76.34  76.34  76.34  76.34  76.34  76.34\n",
      "  76.34  76.34  76.34  76.34  76.34  76.34  76.34  76.34  76.34  76.34\n",
      "  76.34  76.34  76.34  76.34  76.34  76.34  76.34  76.34  76.34  76.34\n",
      "  76.34  76.34  76.34  76.34  76.34  76.34  76.34  76.34  76.34  76.34\n",
      "  76.34  76.34  76.34  76.34  76.34  76.34  76.34  76.34  76.34  76.34\n",
      "  76.34  76.34  76.34  76.34  76.34  76.34  76.34  76.34  76.34  76.34\n",
      "  76.34  76.34  76.34  76.34  76.34  76.34  76.34  76.34]\n"
     ]
    }
   ],
   "source": [
    "# now we want to combine all the data into a master array\n",
    "# most things we can simply concatinate, but we want to make the event numbers go up\n",
    "print('last event number: %s'%eventNumber25[-1])\n",
    "#then add the last event number to the next day's data so we increment event numbers\n",
    "eventNumber26 += eventNumber25[-1]+1 # plus one because event numbers start at 0! \n",
    "eventNumber28 += eventNumber26[-1]+1\n",
    "# now we can concat the array's together\n",
    "eventNumber = np.concatenate((eventNumber25, eventNumber26, eventNumber28))\n",
    "#print('master event number list:\\n%s'  % eventNumber)\n",
    "\n",
    "radiationDosage = np.concatenate((radiationDosageNumber25, radiationDosageNumber26, radiationDosageNumber28))\n",
    "\n",
    "thermoResistance = np.concatenate((thermosistorResistance25, thermosistorResistance26, thermosistorResistance28))\n",
    "#print(thermoResistance)\n",
    "\n",
    "capVoltage = np.concatenate((capVoltage25, capVoltage26, capVoltage28))\n",
    "#print(capVoltage)\n",
    "#print(len(capVoltage))\n",
    "\n",
    "riseTime = np.concatenate((riseFallDist25, riseFallDist26, riseFallDist28))\n",
    "fallTime = np.concatenate((fallTime25, fallTime26, fallTime28))\n",
    "pressure = np.concatenate((pressure25,  pressure26, pressure28))\n",
    "print(pressure)"
   ]
  },
  {
   "cell_type": "code",
   "execution_count": 38,
   "metadata": {
    "collapsed": false
   },
   "outputs": [
    {
     "data": {
      "image/png": "[encoded data removed]",
      "text/plain": [
       "<matplotlib.figure.Figure at 0x108883a20>"
      ]
     },
     "metadata": {},
     "output_type": "display_data"
    }
   ],
   "source": [
    "plt.plot(eventNumber, fallTime, 'o')\n",
    "plt.show()"
   ]
  },
  {
   "cell_type": "code",
   "execution_count": 39,
   "metadata": {
    "collapsed": false
   },
   "outputs": [
    {
     "name": "stdout",
     "output_type": "stream",
     "text": [
      "[ 31.66  32.21  32.68  33.26  33.7   33.13  65.26  69.26  65.91  71.06\n",
      "  70.85  68.25  67.73  67.35  71.26  69.31  68.    43.98  44.91  41.69\n",
      "  42.51  43.13  43.8   41.86  43.54  42.75  41.96  42.48  50.13  40.56\n",
      "  42.73  42.41  43.28  43.96  41.7   43.06  42.16  41.63  82.9   22.11\n",
      "  42.36  44.75  44.13  43.65  23.5   23.51  23.26  23.26  23.46  23.8\n",
      "  24.06  24.33  23.8   23.11  67.5   70.28  64.76  67.41  32.91  35.6\n",
      "  34.58  32.18  33.18  33.45  32.18  34.03  32.08  32.05  32.26  32.78\n",
      "  35.18  33.06  32.58  33.03  33.15  31.91  32.81  33.61  11.73  11.51\n",
      "  11.31  11.71  11.76  11.51  11.78  11.9   10.51  10.46  10.6   10.55\n",
      "  10.38  10.53  10.36  10.25  10.5   10.41  10.45  10.66  10.38  10.6\n",
      "  10.38  10.61  10.8   21.51  21.56  22.05  22.91  22.73  22.71  22.38\n",
      "  21.46  21.83  21.66  21.64  22.03  22.63  22.2   21.83  22.25  21.65\n",
      "  21.41  21.86  28.13  27.88  28.85  28.    27.85  29.11  28.75  28.26\n",
      "  27.95  28.95  28.2   28.56  26.99  27.14  24.46  26.96  27.23  28.1\n",
      "  27.93  26.95  28.28  27.8   26.76  26.85  27.38  27.24  27.26  15.06\n",
      "  15.11  15.3   15.63  15.46  15.6   15.45  15.35  15.39  15.9   15.75\n",
      "  15.33]\n",
      "[  1.   1.   1.   1.   1.   1.   2.   2.   2.   2.   2.   2.   2.   2.   2.\n",
      "   2.   2.   3.   3.   4.   4.   4.   4.   4.   4.   4.   4.   4.   4.   4.\n",
      "   4.   4.   4.   4.   4.   4.   4.   4.   5.   6.   7.   7.   7.   7.   8.\n",
      "   8.   8.   8.   8.   8.   8.   8.   8.   8.   9.   9.   9.   9.  10.  10.\n",
      "  10.  10.  10.  10.  10.  10.  10.  10.  10.  10.  10.  10.  10.  10.  10.\n",
      "  10.  10.  10.  11.  11.  11.  11.  11.  11.  11.  11.  12.  12.  12.  12.\n",
      "  12.  12.  12.  12.  12.  12.  12.  12.  12.  12.  12.  12.  12.  13.  13.\n",
      "  13.  13.  13.  13.  13.  13.  13.  13.  13.  13.  13.  13.  13.  13.  13.\n",
      "  13.  13.  14.  14.  14.  14.  14.  14.  14.  14.  14.  14.  14.  14.  14.\n",
      "  14.  14.  14.  14.  14.  14.  14.  14.  14.  14.  14.  14.  14.  14.  15.\n",
      "  15.  15.  15.  15.  15.  15.  15.  15.  15.  15.  15.]\n"
     ]
    }
   ],
   "source": [
    "print(fallTime)\n",
    "print(eventNumber)"
   ]
  },
  {
   "cell_type": "code",
   "execution_count": 40,
   "metadata": {
    "collapsed": true
   },
   "outputs": [],
   "source": [
    "#merritt code!"
   ]
  },
  {
   "cell_type": "code",
   "execution_count": 41,
   "metadata": {
    "collapsed": false
   },
   "outputs": [],
   "source": [
    "'''Declare global variables! On data taking days check, record and declare barametric pressure.\n",
    "Find Vf and Vr for each event and enter into subsequent catagory. Calculate q.'''\n",
    "p = 76.32 #barametric pressure in cm of mercury\n",
    "Vf = 0.0189#velocity of fall cm/s\n",
    "Vr = 0.0091#velocity of rise cm/s\n",
    "\n",
    "V = 496.6 # potential difference volts\n",
    "d = 0.7625 # plate seperation in cm\n",
    "roe = 0.866 # density of oil in g/cm^3\n",
    "g = 981.0 #gravity in cm/s^2\n",
    "N = 0.00018 # viscosity of air in dyne*s/cm^2\n",
    "b = .000617 # constant in cm of hg*cm"
   ]
  },
  {
   "cell_type": "markdown",
   "metadata": {},
   "source": [
    "## Calcuate the drops radius\n",
    "\n",
    "First, we Calculate the radius of oil drop using Stokes' law, relating the radius of a spherical body to its velocity of fall in a viscous medium. We use global variables density $\\rho$ = 0.866 $\\frac{g}{cm^3}$, viscosity of air $\\eta$ = 0.00018 $\\frac{dyne\\cdot s}{cm^2}$ and little g is 981.0 $\\frac{cm}{s^2}$. Returns variable 'a' wich is equal to the drops radius\n",
    "\\begin{equation}\n",
    "a = \\sqrt{\\frac{9\\eta v_f}{2g\\rho}}\n",
    "\\end{equation}"
   ]
  },
  {
   "cell_type": "code",
   "execution_count": 42,
   "metadata": {
    "collapsed": false
   },
   "outputs": [
    {
     "name": "stdout",
     "output_type": "stream",
     "text": [
      "0.000134239387473\n"
     ]
    }
   ],
   "source": [
    "def dropRadius(N,Vf,g,roe):\n",
    "    '''Calculates the radius of oil drop using Stokes' law, relating the radius \n",
    "    of a spherical body to its velocity of fall in a viscous medium. Where the \n",
    "    density (roe) is given as 0.866 g/cm^3, N is viscosity of air 0.00018 dyne*s/cm^2\n",
    "    and little g is 981.0 cm/s^2. Returns variable 'a' wich is equal to the drops radius'''\n",
    "    \n",
    "    a = np.sqrt((9*N*Vf)/(2*g*roe))\n",
    "    return(a)\n",
    "\n",
    "print(dropRadius(N,Vf,g,roe))"
   ]
  },
  {
   "cell_type": "markdown",
   "metadata": {},
   "source": [
    "Since the oil droplets will be on the order of 2 microns which is comprable to the mean free path of air molecules we must use a correction factor to calculate the effective viscosity.\n",
    "\\begin{equation}\n",
    "\\eta_{eff} = \\eta\\bigg(\\frac{1}{1+\\frac{b}{pa}}\\bigg)\n",
    "\\end{equation}\n",
    "Substituting the correction factor into equation for Stokes Law approximaton of a, we get.\n",
    "\\begin{equation}\n",
    "a = \\sqrt{\\bigg(\\frac{b}{2p}\\bigg)^2\\frac{9\\eta v_f}{2g\\rho}}-\\frac{b}{2p}\n",
    "\\end{equation}"
   ]
  },
  {
   "cell_type": "code",
   "execution_count": 43,
   "metadata": {
    "collapsed": false
   },
   "outputs": [
    {
     "name": "stdout",
     "output_type": "stream",
     "text": [
      "3.82677447581e-07\n"
     ]
    }
   ],
   "source": [
    "def dropRadiusEtaCorrection(b,p,N,Vf,g,roe):\n",
    "    '''Adding a correction factor to calculate the effective viscosity of air in poise, this function \n",
    "    calculates the radius of oil drop using Stokes' law, relating the radius \n",
    "    of a spherical body to its velocity of fall in a viscous medium. Where the \n",
    "    density (roe) is given as 0.866 g/cm^3, N is viscosity of air 0.00018 dyne*s/cm^2\n",
    "    and little g is 981.0 cm/s^2. Returns variable 'a' wich is equal to the drops radius'''\n",
    "    a_corrected = np.sqrt(((b/2*p)**2)+((9*N*Vf)/(2*g*roe)))-(b/2*p)\n",
    "    return(a_corrected)\n",
    "\n",
    "a = dropRadiusEtaCorrection(b,p,N,Vf,g,roe)\n",
    "print(a)"
   ]
  },
  {
   "cell_type": "markdown",
   "metadata": {},
   "source": [
    "## Calculate the charge\n",
    "Finaly, use the using the $\\eta$ corrected radius of the droplet calculate the cahrge in e.s.u. using \n",
    "\\begin{equation}\n",
    "q = \\bigg|400 \\pi d \\bigg(\\frac{1}{g\\rho}{\\bigg|\\frac{9\\eta}{2}}^3\\bigg| \\bigg)^{\\frac{1}{2}}\\bigg|\\cdot\\bigg| \\bigg(\\frac{1}{1+\\frac{b}{pa}}\\bigg)^\\frac{3}{2} \\bigg|\\cdot\\bigg| \\frac{v_f + v_r \\sqrt{v_f}}{V}\\bigg|\n",
    "\\end{equation}"
   ]
  },
  {
   "cell_type": "code",
   "execution_count": 44,
   "metadata": {
    "collapsed": true
   },
   "outputs": [],
   "source": [
    "def charge(d,g,p,N,b,a,Vf,Vr,V):\n",
    "    '''Calculates the charge on a selected mineral oil droplet. If the drop \n",
    "    is greater than 5 excess electrons choose a slower moving droplet'''\n",
    "\n",
    "    I = np.abs(400*np.pi*d*(1/(g*roe)*np.abs((9*N/2)**3))**(1/2))\n",
    "    J = np.abs((1/(1+(b/(p*a))))**(2/3)**(3/2))\n",
    "    K = np.abs((Vf+Vr*np.sqrt(Vf))/V)\n",
    "    return(I*J*K)"
   ]
  },
  {
   "cell_type": "code",
   "execution_count": 45,
   "metadata": {
    "collapsed": false
   },
   "outputs": [
    {
     "name": "stdout",
     "output_type": "stream",
     "text": [
      "example charge: 5.69906917081e-09\n"
     ]
    }
   ],
   "source": [
    "print('example charge: %s' % charge(d,g,p,N,b,a,Vf,Vr,V))"
   ]
  },
  {
   "cell_type": "code",
   "execution_count": 46,
   "metadata": {
    "collapsed": false
   },
   "outputs": [],
   "source": [
    "# now we want to use merritt's same functions and find the charge for each entry:\n",
    "\"\"\"p = 76.32 #barametric pressure in cm of mercury\n",
    "Vf = 0.0189#velocity of fall cm/s\n",
    "Vr = 0.0091#velocity of rise cm/s\n",
    "\n",
    "V = 496.6 # potential difference volts\n",
    "d = 0.7625 # plate seperation in cm\n",
    "roe = 0.866 # density of oil in g/cm^3\n",
    "g = 981.0 #gravity in cm/s^2\n",
    "N = 0.00018 # viscosity of air in dyne*s/cm^2\n",
    "b = .000617 # constant in cm of hg*cm\"\"\"\n",
    "\n",
    "# calculate velocities from the rise and fall arrays\n",
    "fallVel = 0.2 / fallTime\n",
    "riseVel = 0.2 / riseTime\n",
    "\n",
    "# loop through the data and run Merritt's Q finding meathod\n",
    "correctedDropRadius = np.zeros(len(eventNumber))\n",
    "for i in range(len(eventNumber)):\n",
    "    correctedDropRadius[i] = dropRadiusEtaCorrection(b,p,N,fallVel[i],g,roe)\n",
    "    \n",
    "#print(correctedDropRadius)"
   ]
  },
  {
   "cell_type": "code",
   "execution_count": 47,
   "metadata": {
    "collapsed": false
   },
   "outputs": [
    {
     "name": "stdout",
     "output_type": "stream",
     "text": [
      "[  2.26183578e-09   2.21295618e-09   2.17305712e-09   2.12517333e-09\n",
      "   2.09042861e-09   2.13564188e-09   9.23152075e-10   8.58519235e-10\n",
      "   9.11890797e-10   8.32179597e-10   8.35174766e-10   8.73987514e-10\n",
      "   8.81977245e-10   8.88034685e-10   8.29178568e-10   8.57593970e-10\n",
      "   8.77719737e-10   1.48114801e-09   1.44323991e-09   1.58245995e-09\n",
      "   1.54463859e-09   1.51713030e-09   1.48840139e-09   1.57447972e-09\n",
      "   1.49943006e-09   1.53357695e-09   1.56950770e-09   1.54568538e-09\n",
      "   1.25940694e-09   1.63712841e-09   1.53446788e-09   1.54854532e-09\n",
      "   1.51000929e-09   1.48109913e-09   1.58135920e-09   1.51958609e-09\n",
      "   1.55995548e-09   1.58466371e-09   6.86897174e-10   3.53363211e-09\n",
      "   1.55763045e-09   1.45455463e-09   1.47962160e-09              nan\n",
      "   3.26423235e-09   3.26246512e-09   3.30717363e-09   3.30717363e-09\n",
      "   3.27131868e-09   3.21132085e-09   3.16724547e-09   1.69930504e-09\n",
      "   1.74757221e-09   1.81406604e-09   8.80492561e-10   8.38340940e-10\n",
      "   4.53720126e-10              nan   8.80741512e-10   7.98028897e-10\n",
      "   8.27466883e-10   2.31835811e-09   2.23096833e-09   2.20839994e-09\n",
      "   2.31835811e-09   2.16176345e-09   2.32793312e-09   2.33067160e-09\n",
      "   2.31162510e-09   2.26566717e-09   2.07362150e-09   2.24160756e-09\n",
      "   2.28314382e-09   2.24416296e-09   2.23397321e-09   2.34352948e-09\n",
      "   2.26306678e-09   2.19568555e-09   3.95587627e-09   4.05527977e-09\n",
      "   4.14920803e-09   3.96508856e-09   3.94309980e-09   4.05487948e-09\n",
      "   3.93436532e-09   3.88267756e-09   9.11797327e-09   9.17328303e-09\n",
      "   9.01497012e-09   9.07094675e-09   9.26599253e-09   9.09351148e-09\n",
      "   9.28943161e-09   9.42026054e-09   9.12754705e-09   9.23103124e-09\n",
      "   9.18297155e-09   8.94684470e-09   9.26416708e-09   9.01319412e-09\n",
      "   9.26416708e-09   9.00207496e-09   8.79537435e-09   3.60660924e-09\n",
      "   3.59592890e-09   3.49422307e-09   3.32717962e-09   3.36079397e-09\n",
      "   3.36456698e-09   3.42795029e-09   3.61663490e-09   3.53853593e-09\n",
      "   3.57473946e-09   3.57825440e-09   3.49758296e-09   3.37973624e-09\n",
      "   3.46344388e-09   3.53853593e-09   3.45351785e-09   3.57614382e-09\n",
      "   3.62742891e-09              nan   2.56475888e-09   2.59334689e-09\n",
      "   2.48370274e-09   2.57930747e-09   2.59687855e-09   2.45574065e-09\n",
      "   2.49461265e-09   2.54935966e-09   2.58514034e-09   2.47287961e-09\n",
      "   2.55621422e-09   2.51558418e-09   2.70198146e-09   2.68309590e-09\n",
      "   1.57242125e-09   1.38984319e-09   1.37242616e-09   1.31878720e-09\n",
      "   1.32893948e-09   1.39035536e-09   1.30805863e-09   1.33666444e-09\n",
      "   1.40272264e-09   9.09055843e-10   8.86728366e-10   8.92439024e-10\n",
      "   8.91610695e-10   5.51955075e-09   5.49592004e-09   5.40776128e-09\n",
      "   5.26055744e-09   5.33547592e-09   5.27364027e-09   5.33994271e-09\n",
      "   5.38498357e-09   5.36688544e-09   5.14539300e-09   5.20880576e-09\n",
      "   5.39407389e-09]\n"
     ]
    }
   ],
   "source": [
    "dropletCharge = np.zeros(len(eventNumber))\n",
    "for i in range(len(eventNumber)):\n",
    "    dropletCharge[i] = charge(d,\n",
    "                              g,\n",
    "                              p,\n",
    "                              N,\n",
    "                              b,\n",
    "                              correctedDropRadius[i],\n",
    "                              fallVel[i],\n",
    "                              riseVel[i],\n",
    "                              capVoltage[i])\n",
    "print(dropletCharge)"
   ]
  },
  {
   "cell_type": "code",
   "execution_count": 48,
   "metadata": {
    "collapsed": false
   },
   "outputs": [
    {
     "name": "stdout",
     "output_type": "stream",
     "text": [
      "158\n",
      "158\n"
     ]
    }
   ],
   "source": [
    "#remove the nan values\n",
    "eventNumber = eventNumber[~np.isnan(dropletCharge)]\n",
    "dropletCharge = dropletCharge[~np.isnan(dropletCharge)]\n",
    "#print(dropletCharge)\n",
    "print(len(dropletCharge))\n",
    "print(len(eventNumber))"
   ]
  },
  {
   "cell_type": "code",
   "execution_count": 49,
   "metadata": {
    "collapsed": false
   },
   "outputs": [
    {
     "data": {
      "image/png": "[encoded data removed]",
      "text/plain": [
       "<matplotlib.figure.Figure at 0x1088ea6d8>"
      ]
     },
     "metadata": {},
     "output_type": "display_data"
    }
   ],
   "source": [
    "plt.hist(dropletCharge, bins=40)\n",
    "plt.xlabel('Charge in esu')\n",
    "plt.ylabel('timing event count')\n",
    "plt.show()"
   ]
  },
  {
   "cell_type": "code",
   "execution_count": 52,
   "metadata": {
    "collapsed": false
   },
   "outputs": [
    {
     "name": "stdout",
     "output_type": "stream",
     "text": [
      "[2.1665154826676023e-09, 8.699461988323136e-10, 1.4621939603966695e-09, 1.530080605287264e-09, 6.8689717355959876e-10, 3.5336321065132195e-09, 1.4972688937720112e-09, 2.8051873017758181e-09, 7.241845424269462e-10, 2.0429386531335297e-09, 3.992559348659892e-09, 9.133749496495534e-09, 3.5012114636243262e-09, 1.9197279802853273e-09, 5.3444158391314324e-09]\n"
     ]
    }
   ],
   "source": [
    "# average out the charges that have the same event number\n",
    "lastEvent = eventNumber[0]\n",
    "\n",
    "averageCharge = dropletCharge[0]\n",
    "divisor = 1\n",
    "\n",
    "averageChargeArray = []\n",
    "for i in range(1,len(eventNumber)):\n",
    "    if eventNumber[i] == lastEvent:\n",
    "        averageCharge += dropletCharge[i]\n",
    "        #print(averageCharge)\n",
    "        divisor += 1\n",
    "        #print('d=%s'%divisor)\n",
    "    else:\n",
    "        #averageCharge /= divisor\n",
    "        averageChargeArray.append(averageCharge/divisor)\n",
    "        averageCharge = dropletCharge[i]\n",
    "        divisor = 1\n",
    "    lastEvent = eventNumber[i]\n",
    "    #print(lastEvent)\n",
    "averageChargeArray.append(averageCharge/divisor)\n",
    "print(averageChargeArray)"
   ]
  },
  {
   "cell_type": "code",
   "execution_count": 51,
   "metadata": {
    "collapsed": false
   },
   "outputs": [
    {
     "data": {
      "image/png": "[encoded data removed]",
      "text/plain": [
       "<matplotlib.figure.Figure at 0x108f1fac8>"
      ]
     },
     "metadata": {},
     "output_type": "display_data"
    }
   ],
   "source": [
    "\n",
    "plt.hist(dropletCharge, bins=80)\n",
    "plt.xlabel('Charge in esu')\n",
    "plt.ylabel('timing event count')\n",
    "plt.hist(averageChargeArray, bins=80)\n",
    "plt.show()"
   ]
  },
  {
   "cell_type": "code",
   "execution_count": 53,
   "metadata": {
    "collapsed": false
   },
   "outputs": [
    {
     "name": "stdout",
     "output_type": "stream",
     "text": [
      "[ 1.48168816  0.59495951  1.          1.04642793  0.46977158  2.41666441\n",
      "  1.02398788  1.91847824  0.49527256  1.3971735   2.73052649  6.24660595\n",
      "  2.39449181  1.31290925  3.65506628]\n"
     ]
    }
   ],
   "source": [
    "Q = 1.4621939603966695e-09 # our smallest peak\n",
    "averageChargeArray = np.asarray(averageChargeArray)\n",
    "averageChargeArray /= Q\n",
    "print (averageChargeArray)"
   ]
  },
  {
   "cell_type": "code",
   "execution_count": null,
   "metadata": {
    "collapsed": true
   },
   "outputs": [],
   "source": []
  }
 ],
 "metadata": {
  "kernelspec": {
   "display_name": "Python 3",
   "language": "python",
   "name": "python3"
  },
  "language_info": {
   "codemirror_mode": {
    "name": "ipython",
    "version": 3
   },
   "file_extension": ".py",
   "mimetype": "text/x-python",
   "name": "python",
   "nbconvert_exporter": "python",
   "pygments_lexer": "ipython3",
   "version": "3.4.4"
  }
 },
 "nbformat": 4,
 "nbformat_minor": 0
}
